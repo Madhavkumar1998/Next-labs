{
 "cells": [
  {
   "cell_type": "code",
   "execution_count": 1,
   "id": "64c76d5e",
   "metadata": {},
   "outputs": [],
   "source": [
    "import re\n",
    "from simple_colors import *\n",
    "\n"
   ]
  },
  {
   "cell_type": "code",
   "execution_count": 2,
   "id": "f866c4d6",
   "metadata": {},
   "outputs": [
    {
     "data": {
      "text/plain": [
       "{'orders': [{'id': '1'},\n",
       "  {'id': '2'},\n",
       "  {'id': '3'},\n",
       "  {'id': '4'},\n",
       "  {'id': '5'},\n",
       "  {'id': '6'},\n",
       "  {'id': '7'},\n",
       "  {'id': '8'},\n",
       "  {'id': '9'},\n",
       "  {'id': '10'},\n",
       "  {'id': '11'},\n",
       "  {'id': '648'},\n",
       "  {'id': '649'},\n",
       "  {'id': '650'},\n",
       "  {'id': '651'},\n",
       "  {'id': '652'},\n",
       "  {'id': '653'}],\n",
       " 'errors': [{'code': '3',\n",
       "   'message': '[PHP Warning #2] count(): Parameter must be an array or an object that implements Countable (153)'}]}"
      ]
     },
     "execution_count": 2,
     "metadata": {},
     "output_type": "execute_result"
    }
   ],
   "source": [
    "dict1={\"orders\":[{\"id\":'1'},{\"id\":'2'},{\"id\":'3'},{\"id\":'4'},{\"id\":'5'},{\"id\":'6'},{\"id\":'7'},{\"id\":'8'},{\"id\":'9'},{\"id\":'10'},{\"id\":'11'},{\"id\":'648'},{\"id\":'649'},{\"id\":'650'},{\"id\":'651'},{\"id\":'652'},{\"id\":'653'}],\"errors\":[{\"code\":'3',\"message\":\"[PHP Warning #2] count(): Parameter must be an array or an object that implements Countable (153)\"}]}\n",
    "dict1"
   ]
  },
  {
   "cell_type": "code",
   "execution_count": 2,
   "id": "22a0f4d3",
   "metadata": {},
   "outputs": [
    {
     "name": "stdout",
     "output_type": "stream",
     "text": [
      "\u001b[3;30m['1']\u001b[0m\n",
      "\u001b[3;30m['2']\u001b[0m\n",
      "\u001b[3;30m['3']\u001b[0m\n",
      "\u001b[3;30m['4']\u001b[0m\n",
      "\u001b[3;30m['5']\u001b[0m\n",
      "\u001b[3;30m['6']\u001b[0m\n",
      "\u001b[3;30m['7']\u001b[0m\n",
      "\u001b[3;30m['8']\u001b[0m\n",
      "\u001b[3;30m['9']\u001b[0m\n",
      "\u001b[3;30m['10']\u001b[0m\n",
      "\u001b[3;30m['11']\u001b[0m\n",
      "\u001b[3;30m['648']\u001b[0m\n",
      "\u001b[3;30m['649']\u001b[0m\n",
      "\u001b[3;30m['650']\u001b[0m\n",
      "\u001b[3;30m['651']\u001b[0m\n",
      "\u001b[3;30m['652']\u001b[0m\n",
      "\u001b[3;30m['653']\u001b[0m\n",
      "\u001b[3;30m['3']\u001b[0m\n"
     ]
    }
   ],
   "source": [
    "\n",
    "for val in dict1.values():\n",
    "    for i in range(0,len(val)):\n",
    "        for j in val[i].values():\n",
    "            if len(j) <= 3:\n",
    "                x = re.findall(r'[0-9]+',j)\n",
    "                print(black(x,'italic'))\n",
    "    \n"
   ]
  },
  {
   "cell_type": "code",
   "execution_count": null,
   "id": "4c8deea2",
   "metadata": {},
   "outputs": [],
   "source": []
  }
 ],
 "metadata": {
  "kernelspec": {
   "display_name": "Python 3",
   "language": "python",
   "name": "python3"
  },
  "language_info": {
   "codemirror_mode": {
    "name": "ipython",
    "version": 3
   },
   "file_extension": ".py",
   "mimetype": "text/x-python",
   "name": "python",
   "nbconvert_exporter": "python",
   "pygments_lexer": "ipython3",
   "version": "3.8.8"
  }
 },
 "nbformat": 4,
 "nbformat_minor": 5
}
